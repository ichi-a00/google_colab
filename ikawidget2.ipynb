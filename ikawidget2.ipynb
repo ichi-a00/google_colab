{
  "nbformat": 4,
  "nbformat_minor": 0,
  "metadata": {
    "colab": {
      "name": "ikawidget2.ipynb",
      "provenance": [],
      "authorship_tag": "ABX9TyNOUSYu5B9S2vBeN2Lb3VTl",
      "include_colab_link": true
    },
    "kernelspec": {
      "name": "python3",
      "display_name": "Python 3"
    },
    "language_info": {
      "name": "python"
    }
  },
  "cells": [
    {
      "cell_type": "markdown",
      "metadata": {
        "id": "view-in-github",
        "colab_type": "text"
      },
      "source": [
        "<a href=\"https://colab.research.google.com/github/ichi-a00/google_colab/blob/main/ikawidget2.ipynb\" target=\"_parent\"><img src=\"https://colab.research.google.com/assets/colab-badge.svg\" alt=\"Open In Colab\"/></a>"
      ]
    },
    {
      "cell_type": "markdown",
      "source": [
        "スプラトゥーン２の戦績データから主成分分析を行います。\n",
        "参照：https://ossyaritoori.hatenablog.com/entry/2020/04/30/%E2%91%A0_ikawidget2%E3%81%AE%E3%83%87%E3%83%BC%E3%82%BF%E3%82%92%E4%BD%BF%E3%81%A3%E3%81%A6Splatoon2%E3%81%A7%E3%81%AE%E7%B7%A8%E6%88%90%E3%82%92%E8%A9%95%E4%BE%A1_%EF%BD%9E%EF%BC%91%EF%BC%8E"
      ],
      "metadata": {
        "id": "YcFjeV4lTt8q"
      }
    },
    {
      "cell_type": "code",
      "source": [
        "import pandas as pd\n",
        "import numpy as np\n",
        "import matplotlib as plt\n",
        "import seaborn as sns"
      ],
      "metadata": {
        "id": "JIM2XCJMT2fJ"
      },
      "execution_count": 1,
      "outputs": []
    },
    {
      "cell_type": "code",
      "source": [
        "csv = pd.read_csv(\"/content/ikaWidgetCSV_20211227140557_.csv\")"
      ],
      "metadata": {
        "id": "M3J0_karUIzG"
      },
      "execution_count": 11,
      "outputs": []
    },
    {
      "cell_type": "code",
      "source": [
        "csv.keys()"
      ],
      "metadata": {
        "colab": {
          "base_uri": "https://localhost:8080/"
        },
        "id": "8YWxxo22UZA-",
        "outputId": "60097239-ee5f-4bfa-d572-18e9974f73c0"
      },
      "execution_count": 27,
      "outputs": [
        {
          "output_type": "execute_result",
          "data": {
            "text/plain": [
              "Index(['no', 'startTime', 'elapsedTime', 'win', 'udemae', 'udemaeName',\n",
              "       'udemaeIsX', 'udemaeIsReached', 'sPlusNumber', 'xRanking',\n",
              "       ...\n",
              "       'bravo4ShoesSkillName', 'bravo4ShoesSub1SkillID',\n",
              "       'bravo4ShoesSub1SkillName', 'bravo4ShoesSub2SkillID',\n",
              "       'bravo4ShoesSub2SkillName', 'bravo4ShoesSub3SkillID',\n",
              "       'bravo4ShoesSub3SkillName', 'Unnamed: 637', 'Unnamed: 638',\n",
              "       'Unnamed: 639'],\n",
              "      dtype='object', length=640)"
            ]
          },
          "metadata": {},
          "execution_count": 27
        }
      ]
    },
    {
      "cell_type": "code",
      "source": [
        ""
      ],
      "metadata": {
        "id": "Qza_GpliX0vZ"
      },
      "execution_count": 35,
      "outputs": []
    },
    {
      "cell_type": "code",
      "source": [
        "csv['alpha1AllKill']"
      ],
      "metadata": {
        "colab": {
          "base_uri": "https://localhost:8080/"
        },
        "id": "sNvkEfXNd0kE",
        "outputId": "4b4cab1e-c264-4a30-b486-d44dc7ec66a8"
      },
      "execution_count": 23,
      "outputs": [
        {
          "output_type": "execute_result",
          "data": {
            "text/plain": [
              "0      10\n",
              "1      21\n",
              "2      10\n",
              "3      14\n",
              "4       8\n",
              "       ..\n",
              "427    11\n",
              "428     1\n",
              "429    15\n",
              "430     8\n",
              "431    15\n",
              "Name: alpha1AllKill, Length: 432, dtype: int64"
            ]
          },
          "metadata": {},
          "execution_count": 23
        }
      ]
    },
    {
      "cell_type": "code",
      "source": [
        ""
      ],
      "metadata": {
        "id": "l-V7yyH-d2Lb"
      },
      "execution_count": null,
      "outputs": []
    }
  ]
}