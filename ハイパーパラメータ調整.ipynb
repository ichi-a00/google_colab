{
  "nbformat": 4,
  "nbformat_minor": 0,
  "metadata": {
    "colab": {
      "name": "ハイパーパラメータ調整.ipynb",
      "provenance": [],
      "authorship_tag": "ABX9TyMYf9QaLPb9HXlhevhUAUsx",
      "include_colab_link": true
    },
    "kernelspec": {
      "name": "python3",
      "display_name": "Python 3"
    },
    "language_info": {
      "name": "python"
    }
  },
  "cells": [
    {
      "cell_type": "markdown",
      "metadata": {
        "id": "view-in-github",
        "colab_type": "text"
      },
      "source": [
        "<a href=\"https://colab.research.google.com/github/ichi-a00/google_colab/blob/main/%E3%83%8F%E3%82%A4%E3%83%91%E3%83%BC%E3%83%91%E3%83%A9%E3%83%A1%E3%83%BC%E3%82%BF%E8%AA%BF%E6%95%B4.ipynb\" target=\"_parent\"><img src=\"https://colab.research.google.com/assets/colab-badge.svg\" alt=\"Open In Colab\"/></a>"
      ]
    },
    {
      "cell_type": "code",
      "execution_count": 1,
      "metadata": {
        "id": "-ZTkbNeafu9L"
      },
      "outputs": [],
      "source": [
        "import numpy as np\n",
        "import pandas as pd"
      ]
    },
    {
      "cell_type": "code",
      "source": [
        "from sklearn.datasets import load_breast_cancer"
      ],
      "metadata": {
        "id": "CaGQADh_f2QF"
      },
      "execution_count": 2,
      "outputs": []
    },
    {
      "cell_type": "code",
      "source": [
        "dataset = load_breast_cancer()"
      ],
      "metadata": {
        "id": "aqlrUY_sf8gK"
      },
      "execution_count": 3,
      "outputs": []
    },
    {
      "cell_type": "code",
      "source": [
        "t = dataset.target"
      ],
      "metadata": {
        "id": "J4rompu9gCB0"
      },
      "execution_count": 5,
      "outputs": []
    },
    {
      "cell_type": "code",
      "source": [
        "x = dataset.data"
      ],
      "metadata": {
        "id": "KNsVovdRgC1a"
      },
      "execution_count": 6,
      "outputs": []
    },
    {
      "cell_type": "code",
      "source": [
        "columns = dataset.feature_names"
      ],
      "metadata": {
        "id": "j8DnbI8TgJJe"
      },
      "execution_count": 7,
      "outputs": []
    },
    {
      "cell_type": "code",
      "source": [
        "x.shape, t.shape"
      ],
      "metadata": {
        "colab": {
          "base_uri": "https://localhost:8080/"
        },
        "id": "JerXh7HqgLex",
        "outputId": "4fcf3ed6-5626-4d3c-cb06-18893d48a3b4"
      },
      "execution_count": 8,
      "outputs": [
        {
          "output_type": "execute_result",
          "data": {
            "text/plain": [
              "((569, 30), (569,))"
            ]
          },
          "metadata": {},
          "execution_count": 8
        }
      ]
    },
    {
      "cell_type": "code",
      "source": [
        "from sklearn.model_selection import train_test_split "
      ],
      "metadata": {
        "id": "sVcs3IWqgNdw"
      },
      "execution_count": 10,
      "outputs": []
    },
    {
      "cell_type": "code",
      "source": [
        "x_train_val, x_test, t_train_val, t_test = train_test_split(x,t,test_size=0.2,random_state=1)"
      ],
      "metadata": {
        "id": "x1X8NSjTgO4j"
      },
      "execution_count": 11,
      "outputs": []
    },
    {
      "cell_type": "code",
      "source": [
        "x_train_val.shape"
      ],
      "metadata": {
        "colab": {
          "base_uri": "https://localhost:8080/"
        },
        "id": "mF0t_s1Igjvb",
        "outputId": "9f38a688-7166-48a3-9ec1-6cee35640a18"
      },
      "execution_count": 12,
      "outputs": [
        {
          "output_type": "execute_result",
          "data": {
            "text/plain": [
              "(455, 30)"
            ]
          },
          "metadata": {},
          "execution_count": 12
        }
      ]
    },
    {
      "cell_type": "code",
      "source": [
        "x_train, x_val, t_train, t_val = train_test_split(x_train_val,t_train_val,test_size=0.3,random_state=1)"
      ],
      "metadata": {
        "id": "PJAMrs9Vgm_A"
      },
      "execution_count": 13,
      "outputs": []
    },
    {
      "cell_type": "code",
      "source": [
        "x_train.shape, x_val.shape, x_test.shape"
      ],
      "metadata": {
        "colab": {
          "base_uri": "https://localhost:8080/"
        },
        "id": "IEUWAUN_gzsF",
        "outputId": "d6acccbb-2864-4297-f1a7-d30780d6e210"
      },
      "execution_count": 15,
      "outputs": [
        {
          "output_type": "execute_result",
          "data": {
            "text/plain": [
              "((318, 30), (137, 30), (114, 30))"
            ]
          },
          "metadata": {},
          "execution_count": 15
        }
      ]
    },
    {
      "cell_type": "code",
      "source": [
        "from sklearn.tree import DecisionTreeClassifier"
      ],
      "metadata": {
        "id": "mpIAimkWg1MB"
      },
      "execution_count": 17,
      "outputs": []
    },
    {
      "cell_type": "code",
      "source": [
        "dtree = DecisionTreeClassifier(max_depth=10, min_samples_split=30, random_state=0)"
      ],
      "metadata": {
        "id": "lTu_EBBRhHOc"
      },
      "execution_count": 23,
      "outputs": []
    },
    {
      "cell_type": "code",
      "source": [
        "dtree.fit(x_train, t_train)"
      ],
      "metadata": {
        "colab": {
          "base_uri": "https://localhost:8080/"
        },
        "id": "LjwUc3VqhOLE",
        "outputId": "21a72066-f6f1-4e2a-de06-450bf8fbf8d7"
      },
      "execution_count": 24,
      "outputs": [
        {
          "output_type": "execute_result",
          "data": {
            "text/plain": [
              "DecisionTreeClassifier(max_depth=10, min_samples_split=30, random_state=0)"
            ]
          },
          "metadata": {},
          "execution_count": 24
        }
      ]
    },
    {
      "cell_type": "code",
      "source": [
        "print(f'train score: {dtree.score(x_train, t_train)}')\n",
        "print(f'val score: {dtree.score(x_val, t_val)}')\n",
        "print(f'test score: {dtree.score(x_test, t_test)}')"
      ],
      "metadata": {
        "colab": {
          "base_uri": "https://localhost:8080/"
        },
        "id": "RvDxc0MIhRzO",
        "outputId": "f2aeadfe-efe1-44d1-9468-1c09ecc70352"
      },
      "execution_count": 25,
      "outputs": [
        {
          "output_type": "stream",
          "name": "stdout",
          "text": [
            "train score: 0.9308176100628931\n",
            "val score: 0.9562043795620438\n",
            "test score: 0.9298245614035088\n"
          ]
        }
      ]
    },
    {
      "cell_type": "code",
      "source": [
        "from sklearn.model_selection import GridSearchCV"
      ],
      "metadata": {
        "id": "ZBW6oETqhYtn"
      },
      "execution_count": 26,
      "outputs": []
    },
    {
      "cell_type": "code",
      "source": [
        "estimator = DecisionTreeClassifier(random_state=0)"
      ],
      "metadata": {
        "id": "OeNoYN9hinvi"
      },
      "execution_count": 27,
      "outputs": []
    },
    {
      "cell_type": "code",
      "source": [
        "param_grid = [{\n",
        "               'max_depth': [5,10,15],\n",
        "               'min_samples_split': [10,12,15]\n",
        "}]"
      ],
      "metadata": {
        "id": "7qpyCEUCi6to"
      },
      "execution_count": 35,
      "outputs": []
    },
    {
      "cell_type": "code",
      "source": [
        "cv=5"
      ],
      "metadata": {
        "id": "3loAImI1jQAv"
      },
      "execution_count": 36,
      "outputs": []
    },
    {
      "cell_type": "code",
      "source": [
        "tuned_model = GridSearchCV(estimator=estimator, param_grid=param_grid, cv=cv, return_train_score=False)"
      ],
      "metadata": {
        "id": "XRZ7CquNjRHI"
      },
      "execution_count": 37,
      "outputs": []
    },
    {
      "cell_type": "code",
      "source": [
        "tuned_model.fit(x_train_val, t_train_val)"
      ],
      "metadata": {
        "colab": {
          "base_uri": "https://localhost:8080/"
        },
        "id": "PPK32JAGjiNQ",
        "outputId": "afd2b4fa-899d-4fcd-8d06-0cf220b283c2"
      },
      "execution_count": 38,
      "outputs": [
        {
          "output_type": "execute_result",
          "data": {
            "text/plain": [
              "GridSearchCV(cv=5, estimator=DecisionTreeClassifier(random_state=0),\n",
              "             param_grid=[{'max_depth': [5, 10, 15],\n",
              "                          'min_samples_split': [10, 12, 15]}])"
            ]
          },
          "metadata": {},
          "execution_count": 38
        }
      ]
    },
    {
      "cell_type": "code",
      "source": [
        "pd.DataFrame(tuned_model.cv_results_).T"
      ],
      "metadata": {
        "colab": {
          "base_uri": "https://localhost:8080/",
          "height": 618
        },
        "id": "Bi8zExASkAF7",
        "outputId": "066efd01-8e58-468d-ca2b-109e20c90277"
      },
      "execution_count": 39,
      "outputs": [
        {
          "output_type": "execute_result",
          "data": {
            "text/html": [
              "\n",
              "  <div id=\"df-cbe66c58-3281-4452-8267-0193b457fdf4\">\n",
              "    <div class=\"colab-df-container\">\n",
              "      <div>\n",
              "<style scoped>\n",
              "    .dataframe tbody tr th:only-of-type {\n",
              "        vertical-align: middle;\n",
              "    }\n",
              "\n",
              "    .dataframe tbody tr th {\n",
              "        vertical-align: top;\n",
              "    }\n",
              "\n",
              "    .dataframe thead th {\n",
              "        text-align: right;\n",
              "    }\n",
              "</style>\n",
              "<table border=\"1\" class=\"dataframe\">\n",
              "  <thead>\n",
              "    <tr style=\"text-align: right;\">\n",
              "      <th></th>\n",
              "      <th>0</th>\n",
              "      <th>1</th>\n",
              "      <th>2</th>\n",
              "      <th>3</th>\n",
              "      <th>4</th>\n",
              "      <th>5</th>\n",
              "      <th>6</th>\n",
              "      <th>7</th>\n",
              "      <th>8</th>\n",
              "    </tr>\n",
              "  </thead>\n",
              "  <tbody>\n",
              "    <tr>\n",
              "      <th>mean_fit_time</th>\n",
              "      <td>0.00636239</td>\n",
              "      <td>0.00506783</td>\n",
              "      <td>0.00509801</td>\n",
              "      <td>0.00520139</td>\n",
              "      <td>0.00510545</td>\n",
              "      <td>0.00500927</td>\n",
              "      <td>0.00505009</td>\n",
              "      <td>0.00502405</td>\n",
              "      <td>0.00495658</td>\n",
              "    </tr>\n",
              "    <tr>\n",
              "      <th>std_fit_time</th>\n",
              "      <td>0.0012964</td>\n",
              "      <td>0.000224284</td>\n",
              "      <td>0.000244017</td>\n",
              "      <td>0.000281964</td>\n",
              "      <td>0.000243187</td>\n",
              "      <td>0.000211344</td>\n",
              "      <td>0.000274124</td>\n",
              "      <td>0.0002635</td>\n",
              "      <td>0.000242288</td>\n",
              "    </tr>\n",
              "    <tr>\n",
              "      <th>mean_score_time</th>\n",
              "      <td>0.000610685</td>\n",
              "      <td>0.000435591</td>\n",
              "      <td>0.000497055</td>\n",
              "      <td>0.000460052</td>\n",
              "      <td>0.000493002</td>\n",
              "      <td>0.000430298</td>\n",
              "      <td>0.000417757</td>\n",
              "      <td>0.000407219</td>\n",
              "      <td>0.000419331</td>\n",
              "    </tr>\n",
              "    <tr>\n",
              "      <th>std_score_time</th>\n",
              "      <td>0.000133327</td>\n",
              "      <td>2.08874e-05</td>\n",
              "      <td>0.000107178</td>\n",
              "      <td>3.50528e-05</td>\n",
              "      <td>6.49225e-05</td>\n",
              "      <td>2.807e-05</td>\n",
              "      <td>2.65416e-05</td>\n",
              "      <td>1.85311e-05</td>\n",
              "      <td>3.9581e-05</td>\n",
              "    </tr>\n",
              "    <tr>\n",
              "      <th>param_max_depth</th>\n",
              "      <td>5</td>\n",
              "      <td>5</td>\n",
              "      <td>5</td>\n",
              "      <td>10</td>\n",
              "      <td>10</td>\n",
              "      <td>10</td>\n",
              "      <td>15</td>\n",
              "      <td>15</td>\n",
              "      <td>15</td>\n",
              "    </tr>\n",
              "    <tr>\n",
              "      <th>param_min_samples_split</th>\n",
              "      <td>10</td>\n",
              "      <td>12</td>\n",
              "      <td>15</td>\n",
              "      <td>10</td>\n",
              "      <td>12</td>\n",
              "      <td>15</td>\n",
              "      <td>10</td>\n",
              "      <td>12</td>\n",
              "      <td>15</td>\n",
              "    </tr>\n",
              "    <tr>\n",
              "      <th>params</th>\n",
              "      <td>{'max_depth': 5, 'min_samples_split': 10}</td>\n",
              "      <td>{'max_depth': 5, 'min_samples_split': 12}</td>\n",
              "      <td>{'max_depth': 5, 'min_samples_split': 15}</td>\n",
              "      <td>{'max_depth': 10, 'min_samples_split': 10}</td>\n",
              "      <td>{'max_depth': 10, 'min_samples_split': 12}</td>\n",
              "      <td>{'max_depth': 10, 'min_samples_split': 15}</td>\n",
              "      <td>{'max_depth': 15, 'min_samples_split': 10}</td>\n",
              "      <td>{'max_depth': 15, 'min_samples_split': 12}</td>\n",
              "      <td>{'max_depth': 15, 'min_samples_split': 15}</td>\n",
              "    </tr>\n",
              "    <tr>\n",
              "      <th>split0_test_score</th>\n",
              "      <td>0.967033</td>\n",
              "      <td>0.923077</td>\n",
              "      <td>0.912088</td>\n",
              "      <td>0.967033</td>\n",
              "      <td>0.923077</td>\n",
              "      <td>0.912088</td>\n",
              "      <td>0.967033</td>\n",
              "      <td>0.923077</td>\n",
              "      <td>0.912088</td>\n",
              "    </tr>\n",
              "    <tr>\n",
              "      <th>split1_test_score</th>\n",
              "      <td>0.912088</td>\n",
              "      <td>0.901099</td>\n",
              "      <td>0.901099</td>\n",
              "      <td>0.912088</td>\n",
              "      <td>0.901099</td>\n",
              "      <td>0.901099</td>\n",
              "      <td>0.912088</td>\n",
              "      <td>0.901099</td>\n",
              "      <td>0.901099</td>\n",
              "    </tr>\n",
              "    <tr>\n",
              "      <th>split2_test_score</th>\n",
              "      <td>0.923077</td>\n",
              "      <td>0.934066</td>\n",
              "      <td>0.934066</td>\n",
              "      <td>0.923077</td>\n",
              "      <td>0.934066</td>\n",
              "      <td>0.934066</td>\n",
              "      <td>0.923077</td>\n",
              "      <td>0.934066</td>\n",
              "      <td>0.934066</td>\n",
              "    </tr>\n",
              "    <tr>\n",
              "      <th>split3_test_score</th>\n",
              "      <td>0.956044</td>\n",
              "      <td>0.956044</td>\n",
              "      <td>0.945055</td>\n",
              "      <td>0.956044</td>\n",
              "      <td>0.956044</td>\n",
              "      <td>0.945055</td>\n",
              "      <td>0.956044</td>\n",
              "      <td>0.956044</td>\n",
              "      <td>0.945055</td>\n",
              "    </tr>\n",
              "    <tr>\n",
              "      <th>split4_test_score</th>\n",
              "      <td>0.967033</td>\n",
              "      <td>0.967033</td>\n",
              "      <td>0.934066</td>\n",
              "      <td>0.967033</td>\n",
              "      <td>0.967033</td>\n",
              "      <td>0.934066</td>\n",
              "      <td>0.967033</td>\n",
              "      <td>0.967033</td>\n",
              "      <td>0.934066</td>\n",
              "    </tr>\n",
              "    <tr>\n",
              "      <th>mean_test_score</th>\n",
              "      <td>0.945055</td>\n",
              "      <td>0.936264</td>\n",
              "      <td>0.925275</td>\n",
              "      <td>0.945055</td>\n",
              "      <td>0.936264</td>\n",
              "      <td>0.925275</td>\n",
              "      <td>0.945055</td>\n",
              "      <td>0.936264</td>\n",
              "      <td>0.925275</td>\n",
              "    </tr>\n",
              "    <tr>\n",
              "      <th>std_test_score</th>\n",
              "      <td>0.0230507</td>\n",
              "      <td>0.0234661</td>\n",
              "      <td>0.0161505</td>\n",
              "      <td>0.0230507</td>\n",
              "      <td>0.0234661</td>\n",
              "      <td>0.0161505</td>\n",
              "      <td>0.0230507</td>\n",
              "      <td>0.0234661</td>\n",
              "      <td>0.0161505</td>\n",
              "    </tr>\n",
              "    <tr>\n",
              "      <th>rank_test_score</th>\n",
              "      <td>1</td>\n",
              "      <td>4</td>\n",
              "      <td>7</td>\n",
              "      <td>1</td>\n",
              "      <td>4</td>\n",
              "      <td>7</td>\n",
              "      <td>1</td>\n",
              "      <td>4</td>\n",
              "      <td>7</td>\n",
              "    </tr>\n",
              "  </tbody>\n",
              "</table>\n",
              "</div>\n",
              "      <button class=\"colab-df-convert\" onclick=\"convertToInteractive('df-cbe66c58-3281-4452-8267-0193b457fdf4')\"\n",
              "              title=\"Convert this dataframe to an interactive table.\"\n",
              "              style=\"display:none;\">\n",
              "        \n",
              "  <svg xmlns=\"http://www.w3.org/2000/svg\" height=\"24px\"viewBox=\"0 0 24 24\"\n",
              "       width=\"24px\">\n",
              "    <path d=\"M0 0h24v24H0V0z\" fill=\"none\"/>\n",
              "    <path d=\"M18.56 5.44l.94 2.06.94-2.06 2.06-.94-2.06-.94-.94-2.06-.94 2.06-2.06.94zm-11 1L8.5 8.5l.94-2.06 2.06-.94-2.06-.94L8.5 2.5l-.94 2.06-2.06.94zm10 10l.94 2.06.94-2.06 2.06-.94-2.06-.94-.94-2.06-.94 2.06-2.06.94z\"/><path d=\"M17.41 7.96l-1.37-1.37c-.4-.4-.92-.59-1.43-.59-.52 0-1.04.2-1.43.59L10.3 9.45l-7.72 7.72c-.78.78-.78 2.05 0 2.83L4 21.41c.39.39.9.59 1.41.59.51 0 1.02-.2 1.41-.59l7.78-7.78 2.81-2.81c.8-.78.8-2.07 0-2.86zM5.41 20L4 18.59l7.72-7.72 1.47 1.35L5.41 20z\"/>\n",
              "  </svg>\n",
              "      </button>\n",
              "      \n",
              "  <style>\n",
              "    .colab-df-container {\n",
              "      display:flex;\n",
              "      flex-wrap:wrap;\n",
              "      gap: 12px;\n",
              "    }\n",
              "\n",
              "    .colab-df-convert {\n",
              "      background-color: #E8F0FE;\n",
              "      border: none;\n",
              "      border-radius: 50%;\n",
              "      cursor: pointer;\n",
              "      display: none;\n",
              "      fill: #1967D2;\n",
              "      height: 32px;\n",
              "      padding: 0 0 0 0;\n",
              "      width: 32px;\n",
              "    }\n",
              "\n",
              "    .colab-df-convert:hover {\n",
              "      background-color: #E2EBFA;\n",
              "      box-shadow: 0px 1px 2px rgba(60, 64, 67, 0.3), 0px 1px 3px 1px rgba(60, 64, 67, 0.15);\n",
              "      fill: #174EA6;\n",
              "    }\n",
              "\n",
              "    [theme=dark] .colab-df-convert {\n",
              "      background-color: #3B4455;\n",
              "      fill: #D2E3FC;\n",
              "    }\n",
              "\n",
              "    [theme=dark] .colab-df-convert:hover {\n",
              "      background-color: #434B5C;\n",
              "      box-shadow: 0px 1px 3px 1px rgba(0, 0, 0, 0.15);\n",
              "      filter: drop-shadow(0px 1px 2px rgba(0, 0, 0, 0.3));\n",
              "      fill: #FFFFFF;\n",
              "    }\n",
              "  </style>\n",
              "\n",
              "      <script>\n",
              "        const buttonEl =\n",
              "          document.querySelector('#df-cbe66c58-3281-4452-8267-0193b457fdf4 button.colab-df-convert');\n",
              "        buttonEl.style.display =\n",
              "          google.colab.kernel.accessAllowed ? 'block' : 'none';\n",
              "\n",
              "        async function convertToInteractive(key) {\n",
              "          const element = document.querySelector('#df-cbe66c58-3281-4452-8267-0193b457fdf4');\n",
              "          const dataTable =\n",
              "            await google.colab.kernel.invokeFunction('convertToInteractive',\n",
              "                                                     [key], {});\n",
              "          if (!dataTable) return;\n",
              "\n",
              "          const docLinkHtml = 'Like what you see? Visit the ' +\n",
              "            '<a target=\"_blank\" href=https://colab.research.google.com/notebooks/data_table.ipynb>data table notebook</a>'\n",
              "            + ' to learn more about interactive tables.';\n",
              "          element.innerHTML = '';\n",
              "          dataTable['output_type'] = 'display_data';\n",
              "          await google.colab.output.renderOutput(dataTable, element);\n",
              "          const docLink = document.createElement('div');\n",
              "          docLink.innerHTML = docLinkHtml;\n",
              "          element.appendChild(docLink);\n",
              "        }\n",
              "      </script>\n",
              "    </div>\n",
              "  </div>\n",
              "  "
            ],
            "text/plain": [
              "                                                                 0  ...                                           8\n",
              "mean_fit_time                                           0.00636239  ...                                  0.00495658\n",
              "std_fit_time                                             0.0012964  ...                                 0.000242288\n",
              "mean_score_time                                        0.000610685  ...                                 0.000419331\n",
              "std_score_time                                         0.000133327  ...                                  3.9581e-05\n",
              "param_max_depth                                                  5  ...                                          15\n",
              "param_min_samples_split                                         10  ...                                          15\n",
              "params                   {'max_depth': 5, 'min_samples_split': 10}  ...  {'max_depth': 15, 'min_samples_split': 15}\n",
              "split0_test_score                                         0.967033  ...                                    0.912088\n",
              "split1_test_score                                         0.912088  ...                                    0.901099\n",
              "split2_test_score                                         0.923077  ...                                    0.934066\n",
              "split3_test_score                                         0.956044  ...                                    0.945055\n",
              "split4_test_score                                         0.967033  ...                                    0.934066\n",
              "mean_test_score                                           0.945055  ...                                    0.925275\n",
              "std_test_score                                           0.0230507  ...                                   0.0161505\n",
              "rank_test_score                                                  1  ...                                           7\n",
              "\n",
              "[15 rows x 9 columns]"
            ]
          },
          "metadata": {},
          "execution_count": 39
        }
      ]
    },
    {
      "cell_type": "code",
      "source": [
        "tuned_model.best_params_"
      ],
      "metadata": {
        "colab": {
          "base_uri": "https://localhost:8080/"
        },
        "id": "SSh6QxT4kIFe",
        "outputId": "14140395-efe0-4c2d-d29a-33f7185f08bf"
      },
      "execution_count": 40,
      "outputs": [
        {
          "output_type": "execute_result",
          "data": {
            "text/plain": [
              "{'max_depth': 5, 'min_samples_split': 10}"
            ]
          },
          "metadata": {},
          "execution_count": 40
        }
      ]
    },
    {
      "cell_type": "code",
      "source": [
        "best_model = tuned_model.best_estimator_"
      ],
      "metadata": {
        "id": "7eSeZj22lHdv"
      },
      "execution_count": 41,
      "outputs": []
    },
    {
      "cell_type": "code",
      "source": [
        "print(f'val: {best_model.score(x_train_val, t_train_val)}')\n",
        "print(f'test: {best_model.score(x_test, t_test)}')"
      ],
      "metadata": {
        "colab": {
          "base_uri": "https://localhost:8080/"
        },
        "id": "mMfgqgQUlOgQ",
        "outputId": "0b14e8dc-e264-4a07-8f42-4c972d35b280"
      },
      "execution_count": 42,
      "outputs": [
        {
          "output_type": "stream",
          "name": "stdout",
          "text": [
            "val: 0.9934065934065934\n",
            "test: 0.956140350877193\n"
          ]
        }
      ]
    },
    {
      "cell_type": "code",
      "source": [
        ""
      ],
      "metadata": {
        "id": "4BNuISTalcdw"
      },
      "execution_count": null,
      "outputs": []
    }
  ]
}